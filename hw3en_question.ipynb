{
 "cells": [
  {
   "cell_type": "markdown",
   "metadata": {},
   "source": [
    "<div align=\"right\">Revision 1A : January 2021</div>\n",
    "<div align=\"left\">Embedded Systems & IoT courses\n",
    "<br>Instructor : Dr.Varodom Toochinda\n",
    "<br>Dept. of Mechanical Engineering, Kasetsart University\n",
    "</div>    "
   ]
  },
  {
   "cell_type": "markdown",
   "metadata": {},
   "source": [
    "<a href=\"https://colab.research.google.com/github/dewdotninja/sharing-github/blob/master/hw3en_question.ipynb\" target=\"_parent\"><img src=\"https://colab.research.google.com/assets/colab-badge.svg\" alt=\"Open In Colab\"/></a>"
   ]
  },
  {
   "cell_type": "code",
   "execution_count": null,
   "metadata": {},
   "outputs": [],
   "source": [
    "# For colab user, install additional libraries\n",
    "!pip install slycot\n",
    "!pip install control"
   ]
  },
  {
   "cell_type": "code",
   "execution_count": null,
   "metadata": {},
   "outputs": [],
   "source": [
    "# You can import the libraries here or elsewhere in this notebook.\n",
    "import numpy as np\n",
    "import matplotlib.pyplot as plt\n",
    "import control as ctl"
   ]
  },
  {
   "cell_type": "markdown",
   "metadata": {},
   "source": [
    "## HW#3\n",
    "\n",
    "Before you attempt to implement PID algorithm on the embedded platform, you must simulate the algorithm to make sure \n",
    "that it has similar response to the continuous PID with same set of parameters.\n",
    "\n",
    "Compare the step responses from PID feedback system\n",
    "<p align=\"center\">\n",
    "<img src=\"https://drive.google.com/uc?id=1gfTuEDfx5Vd5rtxQdWhShgyoDsI9DfXK\" width=600 alt=\"Figure 3.1\"/>\n",
    "</p>\n",
    "<div align=\"center\"><b>Figure 3.1 PID feedback system</b></div>\n",
    "where the PID controller and plant are specified as\n",
    "$$\n",
    "C(s) = K_p + \\frac{K_i}{s} + \\frac{NK_d}{1+N/s}\n",
    "$$\n",
    "<div align=\"right\">(1)</div>\n",
    "\n",
    "$$\n",
    "P(s) = \\frac{1}{(s+1)^3}\n",
    "$$\n",
    "\n",
    "<div align=\"right\">(2)</div>\n",
    "\n",
    "The 3 step responses required for this assignment are\n",
    "<ol>\n",
    "<li />Simulation using ontinuous-time transfer function $C(s)$ and $P(s)$\n",
    "<li />Simulation using discrete-time transfer tunction $C_d(s)$ and $P_d(s)$ \n",
    "<li />Simulation with the controller and plant in difference equation forms \n",
    "</ol>\n",
    "\n",
    "<b>HInt : </b>For simulation 3, the notebook \n",
    "    <a href=\"https://github.com/dewdotninja/control_python/blob/main/autotuning.ipynb\">autotuning.ipynb</a> \n",
    "    may be helpful\n",
    "\n",
    "You can choose the conversion method that you want, but it has to be the same for simulation 2 and 3. It is \n",
    "anticipated that the 3 responses should match well. If not, explain.\n"
   ]
  },
  {
   "cell_type": "code",
   "execution_count": 1,
   "metadata": {},
   "outputs": [],
   "source": []
  },
  {
   "cell_type": "code",
   "execution_count": null,
   "metadata": {},
   "outputs": [],
   "source": []
  },
  {
   "cell_type": "code",
   "execution_count": null,
   "metadata": {},
   "outputs": [],
   "source": []
  },
  {
   "cell_type": "code",
   "execution_count": null,
   "metadata": {},
   "outputs": [],
   "source": []
  },
  {
   "cell_type": "code",
   "execution_count": null,
   "metadata": {},
   "outputs": [],
   "source": []
  },
  {
   "cell_type": "code",
   "execution_count": null,
   "metadata": {},
   "outputs": [],
   "source": []
  },
  {
   "cell_type": "code",
   "execution_count": null,
   "metadata": {},
   "outputs": [],
   "source": []
  },
  {
   "cell_type": "code",
   "execution_count": null,
   "metadata": {},
   "outputs": [],
   "source": []
  },
  {
   "cell_type": "code",
   "execution_count": null,
   "metadata": {},
   "outputs": [],
   "source": []
  },
  {
   "cell_type": "code",
   "execution_count": null,
   "metadata": {},
   "outputs": [],
   "source": []
  },
  {
   "cell_type": "code",
   "execution_count": null,
   "metadata": {},
   "outputs": [],
   "source": []
  },
  {
   "cell_type": "code",
   "execution_count": null,
   "metadata": {},
   "outputs": [],
   "source": []
  },
  {
   "cell_type": "code",
   "execution_count": null,
   "metadata": {},
   "outputs": [],
   "source": []
  },
  {
   "cell_type": "code",
   "execution_count": null,
   "metadata": {},
   "outputs": [],
   "source": []
  }
 ],
 "metadata": {
  "kernelspec": {
   "display_name": "Python 3.7 (controlenv)",
   "language": "python",
   "name": "controlennv"
  },
  "language_info": {
   "codemirror_mode": {
    "name": "ipython",
    "version": 3
   },
   "file_extension": ".py",
   "mimetype": "text/x-python",
   "name": "python",
   "nbconvert_exporter": "python",
   "pygments_lexer": "ipython3",
   "version": "3.7.9"
  }
 },
 "nbformat": 4,
 "nbformat_minor": 4
}

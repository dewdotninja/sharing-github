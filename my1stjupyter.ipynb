{
 "cells": [
  {
   "cell_type": "markdown",
   "metadata": {},
   "source": [
    "# Control Systems in Jula\n",
    "\n",
    "This is my first jupyter notebook. Here I want to start experimenting with Control Systems Toolbox for Julia and simultaneously learn how to use the notebook.\n",
    "\n",
    "To start using *JuliaControl*, first add the package"
   ]
  },
  {
   "cell_type": "code",
   "execution_count": 8,
   "metadata": {},
   "outputs": [
    {
     "name": "stdout",
     "output_type": "stream",
     "text": [
      "\u001b[32m\u001b[1m  Updating\u001b[22m\u001b[39m registry at `C:\\Users\\dew\\.julia\\registries\\General`\n",
      "\u001b[32m\u001b[1m  Updating\u001b[22m\u001b[39m git-repo `https://github.com/JuliaRegistries/General.git`\n",
      "\u001b[?25l\u001b[2K\u001b[?25h\u001b[32m\u001b[1m Resolving\u001b[22m\u001b[39m package versions...\n",
      "\u001b[32m\u001b[1m  Updating\u001b[22m\u001b[39m `C:\\Users\\dew\\.julia\\environments\\v1.1\\Project.toml`\n",
      "\u001b[90m [no changes]\u001b[39m\n",
      "\u001b[32m\u001b[1m  Updating\u001b[22m\u001b[39m `C:\\Users\\dew\\.julia\\environments\\v1.1\\Manifest.toml`\n",
      "\u001b[90m [no changes]\u001b[39m\n"
     ]
    }
   ],
   "source": [
    "using Pkg\n",
    "Pkg.add(\"ControlSystems\")"
   ]
  },
  {
   "cell_type": "markdown",
   "metadata": {},
   "source": [
    "and use it."
   ]
  },
  {
   "cell_type": "code",
   "execution_count": 9,
   "metadata": {},
   "outputs": [
    {
     "name": "stderr",
     "output_type": "stream",
     "text": [
      "┌ Info: Recompiling stale cache file C:\\Users\\dew\\.julia\\compiled\\v1.1\\ControlSystems\\WTvAN.ji for ControlSystems [a6e380b2-a6ca-5380-bf3e-84a91bcd477e]\n",
      "└ @ Base loading.jl:1184\n",
      "WARNING: Method definition setindex(Array{T, N} where N where T, Any, Int64) in module ArrayInterface at C:\\Users\\dew\\.julia\\packages\\ArrayInterface\\WPV4j\\src\\ArrayInterface.jl:23 overwritten in module DiffEqDiffTools at C:\\Users\\dew\\.julia\\packages\\DiffEqDiffTools\\91LlG\\src\\DiffEqDiffTools.jl:18.\n",
      "WARNING: Method definition setindex(Array{T, N} where N where T, Any, Int64) in module ArrayInterface at C:\\Users\\dew\\.julia\\packages\\ArrayInterface\\WPV4j\\src\\ArrayInterface.jl:23 overwritten in module DiffEqDiffTools at C:\\Users\\dew\\.julia\\packages\\DiffEqDiffTools\\91LlG\\src\\DiffEqDiffTools.jl:18.\n"
     ]
    }
   ],
   "source": [
    "using ControlSystems"
   ]
  },
  {
   "cell_type": "markdown",
   "metadata": {},
   "source": [
    "Let's learn how to construct a DC motor plant $P(s) = \\frac{1}{s(Js+B)}$ with $J = 10$, $B = 0.1$"
   ]
  },
  {
   "cell_type": "code",
   "execution_count": 11,
   "metadata": {},
   "outputs": [
    {
     "data": {
      "text/plain": [
       "TransferFunction{ControlSystems.SisoRational{Float64}}\n",
       "      1.0\n",
       "----------------\n",
       "10.0*s^2 + 0.1*s\n",
       "\n",
       "Continuous-time transfer function model"
      ]
     },
     "execution_count": 11,
     "metadata": {},
     "output_type": "execute_result"
    }
   ],
   "source": [
    "J=10\n",
    "B=0.1\n",
    "s=tf(\"s\")\n",
    "P = 1/(s*(J*s+B))"
   ]
  },
  {
   "cell_type": "code",
   "execution_count": null,
   "metadata": {},
   "outputs": [],
   "source": []
  }
 ],
 "metadata": {
  "kernelspec": {
   "display_name": "Julia 1.1.1",
   "language": "julia",
   "name": "julia-1.1"
  },
  "language_info": {
   "file_extension": ".jl",
   "mimetype": "application/julia",
   "name": "julia",
   "version": "1.1.1"
  }
 },
 "nbformat": 4,
 "nbformat_minor": 2
}
